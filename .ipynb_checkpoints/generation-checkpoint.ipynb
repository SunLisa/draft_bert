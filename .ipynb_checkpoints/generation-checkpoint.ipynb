{
 "cells": [
  {
   "cell_type": "code",
   "execution_count": 1,
   "id": "8eff671d-d1dd-4bb6-9b5e-770bbd8d04a9",
   "metadata": {},
   "outputs": [
    {
     "name": "stdout",
     "output_type": "stream",
     "text": [
      "\n",
      "===== 🧠 Beam Search Generation: Case 1 =====\n",
      "👀 Original Sequence:\n",
      "{'input_ids': tensor([254, 223, 177, 233, 179, 218, 192, 214,  62,  36, 144, 173, 245,  70,\n",
      "         94, 124,  64, 120,  54, 183, 238, 138, 230,  16,  37, 255, 252, 252,\n",
      "        252, 252, 252, 252]), 'attention_mask': tensor([ True,  True,  True,  True,  True,  True,  True,  True,  True,  True,\n",
      "         True,  True,  True,  True,  True,  True,  True,  True,  True,  True,\n",
      "         True,  True,  True,  True,  True,  True, False, False, False, False,\n",
      "        False, False]), 'position_ids': tensor([ 0,  1,  2,  3,  4,  5,  6,  7,  8,  9, 10, 11, 12, 13, 14, 15, 16, 17,\n",
      "        18, 19, 20, 21, 22, 23, 24,  0,  0,  0,  0,  0,  0,  0]), 'team_ids': tensor([0, 0, 1, 1, 0, 1, 1, 0, 0, 1, 0, 0, 1, 1, 0, 0, 1, 1, 0, 0, 1, 1, 0, 0,\n",
      "        1, 0, 0, 0, 0, 0, 0, 0]), 'type_ids': tensor([0, 0, 0, 0, 0, 0, 0, 0, 1, 1, 0, 0, 0, 1, 1, 1, 1, 1, 1, 0, 0, 0, 0, 1,\n",
      "        1, 0, 0, 0, 0, 0, 0, 0])}\n"
     ]
    },
    {
     "ename": "IndexError",
     "evalue": "slice() cannot be applied to a 0-dim tensor.",
     "output_type": "error",
     "traceback": [
      "\u001b[1;31m---------------------------------------------------------------------------\u001b[0m",
      "\u001b[1;31mIndexError\u001b[0m                                Traceback (most recent call last)",
      "Cell \u001b[1;32mIn[1], line 58\u001b[0m\n\u001b[0;32m     56\u001b[0m \u001b[38;5;28mprint\u001b[39m(\u001b[38;5;124m\"\u001b[39m\u001b[38;5;124m👀 Original Sequence:\u001b[39m\u001b[38;5;124m\"\u001b[39m)\n\u001b[0;32m     57\u001b[0m \u001b[38;5;28mprint\u001b[39m(sample)\n\u001b[1;32m---> 58\u001b[0m \u001b[38;5;28mprint\u001b[39m([t\u001b[38;5;241m.\u001b[39mdecode_token_id(tok\u001b[38;5;241m.\u001b[39mitem()) \u001b[38;5;28;01mfor\u001b[39;00m tok \u001b[38;5;129;01min\u001b[39;00m input_ids[:valid_len]])\n\u001b[0;32m     60\u001b[0m beams \u001b[38;5;241m=\u001b[39m beam_generate_draft_from_cut(\n\u001b[0;32m     61\u001b[0m     model\u001b[38;5;241m=\u001b[39mgmodel,\n\u001b[0;32m     62\u001b[0m     tokenizer\u001b[38;5;241m=\u001b[39mt,\n\u001b[1;32m   (...)\u001b[0m\n\u001b[0;32m     68\u001b[0m     model_type\u001b[38;5;241m=\u001b[39m\u001b[38;5;124m'\u001b[39m\u001b[38;5;124mgpt\u001b[39m\u001b[38;5;124m'\u001b[39m\n\u001b[0;32m     69\u001b[0m )\n\u001b[0;32m     71\u001b[0m top_beam \u001b[38;5;241m=\u001b[39m beams[\u001b[38;5;241m0\u001b[39m]\n",
      "\u001b[1;31mIndexError\u001b[0m: slice() cannot be applied to a 0-dim tensor."
     ]
    }
   ],
   "source": [
    "import torch\n",
    "import random\n",
    "from draft_gen import beam_generate_draft_from_cut\n",
    "from draft_tokenizer import DraftTokenizer\n",
    "#from draft_utils import get_token_name  # optional helper if you have a pretty formatter\n",
    "# we have a vocab json which is gonnabe a dictionary#\n",
    "#\n",
    "\"\"\" def load_from_files(cls, vocab_dir=\"vocab\"):\n",
    "        with open(f\"{vocab_dir}/vocab.json\") as f:\n",
    "            vocab = json.load(f)\n",
    "        with open(f\"{vocab_dir}/reverse_vocab.json\") as f:\n",
    "            reverse_vocab = json.load(f)\n",
    "        reverse_vocab = {int(k): v for k, v in reverse_vocab.items()}\n",
    "        with open(f\"{vocab_dir}/dense_map.json\") as f:\n",
    "            dense_map = json.load(f)\n",
    "        dense_map = {int(k): v for k, v in dense_map.items()}\n",
    "\n",
    "        with open(f\"{vocab_dir}/hero_id_to_name.json\") as f:\n",
    "            hero_id_to_name = json.load(f)\n",
    "        hero_id_to_name = {int(k): v for k, v in hero_id_to_name.items()}\n",
    "\n",
    "        return cls(vocab, reverse_vocab, dense_map, hero_id_to_name)\n",
    "\"\"\"\n",
    "from draft_dataset import split_tokenized_docs\n",
    "\n",
    "# === ⚙️ Load Tokenizer ===\n",
    "t = DraftTokenizer.load_from_files()\n",
    "import json\n",
    "# === 📜 Load Pre-tokenized Data (or re-tokenize) ===\n",
    "with open('draft_results.json', 'r') as f:\n",
    "    draft_data = json.load(f)\n",
    "\n",
    "docs = [seq for _, seq in draft_data.items()]\n",
    "tokenized_docs = [t(doc, return_tensors='pt') for doc in docs]\n",
    "\n",
    "# === 🔍 Sample a Few Interesting Drafts ===\n",
    "_, _, test_docs = split_tokenized_docs(tokenized_docs, tokenizer=t, mid=True)\n",
    "test_cases = random.sample(test_docs, k=3)  # or manually choose slices\n",
    "\n",
    "# === 📦 Load Model ===\n",
    "from transformers import GPT2Config\n",
    "from draft_bert import DraftGPT2ForCausalLM\n",
    "\n",
    "gconfig = GPT2Config.from_pretrained(\"./model/final_gpt2_model\")\n",
    "gmodel = DraftGPT2ForCausalLM(gconfig)\n",
    "gmodel.load_state_dict(torch.load(\"./model/final_gpt2_model/pytorch_model.bin\"))\n",
    "gmodel.eval().to('cuda' if torch.cuda.is_available() else 'cpu')\n",
    "\n",
    "# === 🧪 Try Beam Generation ===\n",
    "for i, sample in enumerate(test_cases):\n",
    "    print(f\"\\n===== 🧠 Beam Search Generation: Case {i+1} =====\")\n",
    "\n",
    "    input_ids = sample['input_ids']\n",
    "    valid_len = (sample['attention_mask'] > 0).sum().item()\n",
    "\n",
    "    print(\"👀 Original Sequence:\")\n",
    "    print(sample)\n",
    "    print([t.decode_token_id(tok.item()) for tok in input_ids[:valid_len]])\n",
    "\n",
    "    beams = beam_generate_draft_from_cut(\n",
    "        model=gmodel,\n",
    "        tokenizer=t,\n",
    "        sequence=sample,\n",
    "        start_pos=18,\n",
    "        beam_width=3,\n",
    "        depth=6,\n",
    "        max_len=32,\n",
    "        model_type='gpt'\n",
    "    )\n",
    "\n",
    "    top_beam = beams[0]\n",
    "    final_tokens = top_beam[\"input_ids\"][0]\n",
    "    decoded = [t.id_to_token(tok.item()) for tok in final_tokens if tok.item() != t.pad_token_id]\n",
    "\n",
    "    print(\"\\n✅ Top Beam (Best Sequence):\")\n",
    "    print(\" →\", decoded)\n",
    "    print(f\"🧮 Score: {top_beam['score']:.2f}\")\n",
    "\n",
    "    print(\"\\n📊 Generation Log:\")\n",
    "    for step in top_beam[\"log\"]:\n",
    "        tok = t.id_to_token(step[\"predicted_token\"])\n",
    "        print(f\"  Pos {step['position']:2d}: {tok:25s} (p={step['prob']:.4f})\")\n",
    "\n",
    "    print(\"\\n📈 Top-k Alternatives Per Step:\")\n",
    "    for step in top_beam[\"log\"]:\n",
    "        names = [t.id_to_token(tok_id) for tok_id in step.get(\"topk_ids\", [])]\n",
    "        probs = step.get(\"topk_probs\", [])\n",
    "        print(f\"  Step {step['position']}:\")\n",
    "        for name, p in zip(names, probs):\n",
    "            print(f\"    - {name:25s}: {p:.4f}\")\n",
    "\n",
    "    print(\"=\"*60)\n",
    "\n",
    "\n",
    "\n"
   ]
  },
  {
   "cell_type": "code",
   "execution_count": null,
   "id": "504ff798-3f30-4d55-902c-bdd79880f20e",
   "metadata": {},
   "outputs": [
    {
     "name": "stdout",
     "output_type": "stream",
     "text": [
      "> \u001b[1;32mc:\\users\\sunlisa\\appdata\\local\\temp\\ipykernel_15804\\199552489.py\u001b[0m(58)\u001b[0;36m<module>\u001b[1;34m()\u001b[0m\n",
      "\n"
     ]
    },
    {
     "name": "stdin",
     "output_type": "stream",
     "text": [
      "ipdb>  valid_len\n"
     ]
    },
    {
     "name": "stdout",
     "output_type": "stream",
     "text": [
      "1\n"
     ]
    },
    {
     "name": "stdin",
     "output_type": "stream",
     "text": [
      "ipdb>  input_ids\n"
     ]
    },
    {
     "name": "stdout",
     "output_type": "stream",
     "text": [
      "tensor(254)\n"
     ]
    },
    {
     "name": "stdin",
     "output_type": "stream",
     "text": [
      "ipdb>  sample['attention_mask'][0] > 0\n"
     ]
    },
    {
     "name": "stdout",
     "output_type": "stream",
     "text": [
      "tensor(True)\n"
     ]
    },
    {
     "name": "stdin",
     "output_type": "stream",
     "text": [
      "ipdb>  sample['attention_mask']\n"
     ]
    },
    {
     "name": "stdout",
     "output_type": "stream",
     "text": [
      "tensor([ True,  True,  True,  True,  True,  True,  True,  True,  True,  True,\n",
      "         True,  True,  True,  True,  True,  True,  True,  True,  True,  True,\n",
      "         True,  True,  True,  True,  True,  True, False, False, False, False,\n",
      "        False, False])\n"
     ]
    },
    {
     "name": "stdin",
     "output_type": "stream",
     "text": [
      "ipdb>  sample['attention_mask']> 0\n"
     ]
    },
    {
     "name": "stdout",
     "output_type": "stream",
     "text": [
      "tensor([ True,  True,  True,  True,  True,  True,  True,  True,  True,  True,\n",
      "         True,  True,  True,  True,  True,  True,  True,  True,  True,  True,\n",
      "         True,  True,  True,  True,  True,  True, False, False, False, False,\n",
      "        False, False])\n"
     ]
    }
   ],
   "source": [
    "%debug"
   ]
  },
  {
   "cell_type": "code",
   "execution_count": null,
   "id": "01a17a5c-d93e-47b4-9bb9-6eb4a30997c3",
   "metadata": {},
   "outputs": [],
   "source": []
  },
  {
   "cell_type": "code",
   "execution_count": null,
   "id": "159d7e0f-16a8-47b8-813e-b0d2ec28c624",
   "metadata": {},
   "outputs": [],
   "source": [
    "\n",
    "# === 📦 Load BERT Model ===\n",
    "from transformers import BertConfig\n",
    "from draft_bert import DraftBertForMaskedLM\n",
    "\n",
    "bconfig = BertConfig.from_pretrained(\"./model/final_bert_model\")\n",
    "bmodel = DraftBertForMaskedLM(bconfig)\n",
    "bmodel.load_state_dict(torch.load(\"./model/final_bert_model/pytorch_model.bin\"))\n",
    "bmodel.eval().to('cuda' if torch.cuda.is_available() else 'cpu')\n",
    "\n",
    "# === 🧪 Beam Search for BERT ===\n",
    "for i, sample in enumerate(test_cases):\n",
    "    print(f\"\\n===== 🧠 Beam Search Generation (BERT): Case {i+1} =====\")\n",
    "\n",
    "    input_ids = sample['input_ids']\n",
    "    valid_len = (sample['attention_mask'] > 0).sum().item()\n",
    "\n",
    "    print(\"👀 Original Sequence:\")\n",
    "    print([t.id_to_token(tok.item()) for tok in input_ids[:valid_len]])\n",
    "\n",
    "    beams = beam_generate_draft_from_cut(\n",
    "        model=bmodel,\n",
    "        tokenizer=t,\n",
    "        sequence=sample,\n",
    "        start_pos=18,\n",
    "        beam_width=3,\n",
    "        depth=6,\n",
    "        max_len=32,\n",
    "        model_type='bert'\n",
    "    )\n",
    "\n",
    "    top_beam = beams[0]\n",
    "    final_tokens = top_beam[\"input_ids\"][0]\n",
    "    decoded = [t.id_to_token(tok.item()) for tok in final_tokens if tok.item() != t.pad_token_id]\n",
    "\n",
    "    print(\"\\n✅ Top Beam (Best Sequence):\")\n",
    "    print(\" →\", decoded)\n",
    "    print(f\"🧮 Score: {top_beam['score']:.2f}\")\n",
    "\n",
    "    print(\"\\n📊 Generation Log:\")\n",
    "    for step in top_beam[\"log\"]:\n",
    "        tok = t.id_to_token(step[\"predicted_token\"])\n",
    "        print(f\"  Pos {step['position']:2d}: {tok:25s} (p={step['prob']:.4f})\")\n",
    "\n",
    "    print(\"\\n📈 Top-k Alternatives Per Step:\")\n",
    "    for step in top_beam[\"log\"]:\n",
    "        names = [t.id_to_token(tok_id) for tok_id in step.get(\"topk_ids\", [])]\n",
    "        probs = step.get(\"topk_probs\", [])\n",
    "        print(f\"  Step {step['position']}:\")\n",
    "        for name, p in zip(names, probs):\n",
    "            print(f\"    - {name:25s}: {p:.4f}\")\n",
    "\n",
    "    print(\"=\"*60)"
   ]
  }
 ],
 "metadata": {
  "kernelspec": {
   "display_name": "Python 3 (ipykernel)",
   "language": "python",
   "name": "python3"
  },
  "language_info": {
   "codemirror_mode": {
    "name": "ipython",
    "version": 3
   },
   "file_extension": ".py",
   "mimetype": "text/x-python",
   "name": "python",
   "nbconvert_exporter": "python",
   "pygments_lexer": "ipython3",
   "version": "3.11.7"
  }
 },
 "nbformat": 4,
 "nbformat_minor": 5
}
