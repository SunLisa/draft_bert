{
 "cells": [
  {
   "cell_type": "code",
   "execution_count": 1,
   "id": "8eff671d-d1dd-4bb6-9b5e-770bbd8d04a9",
   "metadata": {},
   "outputs": [
    {
     "name": "stdout",
     "output_type": "stream",
     "text": [
      "\n",
      "===== 🧠 Beam Search Generation: Case 1 =====\n",
      "👀 Original Sequence:\n",
      "{'input_ids': tensor([254, 201, 193, 144, 157, 234, 168, 156, 100,  97, 173, 162, 222,  21,\n",
      "         86,  63,  60,  71,   9, 149, 238, 240, 132, 105, 104, 255, 252, 252,\n",
      "        252, 252, 252, 252]), 'attention_mask': tensor([ True,  True,  True,  True,  True,  True,  True,  True,  True,  True,\n",
      "         True,  True,  True,  True,  True,  True,  True,  True,  True,  True,\n",
      "         True,  True,  True,  True,  True,  True, False, False, False, False,\n",
      "        False, False]), 'position_ids': tensor([ 0,  1,  2,  3,  4,  5,  6,  7,  8,  9, 10, 11, 12, 13, 14, 15, 16, 17,\n",
      "        18, 19, 20, 21, 22, 23, 24,  0,  0,  0,  0,  0,  0,  0]), 'team_ids': tensor([0, 1, 0, 0, 1, 0, 0, 1, 1, 0, 1, 1, 0, 0, 1, 1, 0, 0, 1, 1, 0, 0, 1, 1,\n",
      "        0, 0, 0, 0, 0, 0, 0, 0]), 'type_ids': tensor([0, 0, 0, 0, 0, 0, 0, 0, 1, 1, 0, 0, 0, 1, 1, 1, 1, 1, 1, 0, 0, 0, 0, 1,\n",
      "        1, 0, 0, 0, 0, 0, 0, 0])}\n",
      "['[CLS]', 'ban_Lycan', 'ban_Doom', 'ban_Tiny', 'ban_Enigma', 'ban_Phoenix', 'ban_Phantom Assassin', 'ban_Riki', 'pick_Abaddon', 'pick_Bristleback', 'ban_Dragon Knight', 'ban_Beastmaster', 'ban_Timbersaw', 'pick_Zeus', 'pick_Nyx Assassin', 'pick_Batrider', 'pick_Bounty Hunter', 'pick_Alchemist', 'pick_Morphling', 'ban_Lina', 'ban_Monkey King', 'ban_Pangolier', 'ban_Earthshaker', 'pick_Earth Spirit', 'pick_Ember Spirit', '[SEP]']\n"
     ]
    },
    {
     "ename": "IndexError",
     "evalue": "too many indices for tensor of dimension 2",
     "output_type": "error",
     "traceback": [
      "\u001b[1;31m---------------------------------------------------------------------------\u001b[0m",
      "\u001b[1;31mIndexError\u001b[0m                                Traceback (most recent call last)",
      "Cell \u001b[1;32mIn[1], line 60\u001b[0m\n\u001b[0;32m     57\u001b[0m \u001b[38;5;28mprint\u001b[39m(sample)\n\u001b[0;32m     58\u001b[0m \u001b[38;5;28mprint\u001b[39m([t\u001b[38;5;241m.\u001b[39mdecode_token_id(tok\u001b[38;5;241m.\u001b[39mitem()) \u001b[38;5;28;01mfor\u001b[39;00m tok \u001b[38;5;129;01min\u001b[39;00m input_ids[:valid_len]])\n\u001b[1;32m---> 60\u001b[0m beams \u001b[38;5;241m=\u001b[39m beam_generate_draft_from_cut(\n\u001b[0;32m     61\u001b[0m     model\u001b[38;5;241m=\u001b[39mgmodel,\n\u001b[0;32m     62\u001b[0m     tokenizer\u001b[38;5;241m=\u001b[39mt,\n\u001b[0;32m     63\u001b[0m     sequence\u001b[38;5;241m=\u001b[39msample,\n\u001b[0;32m     64\u001b[0m     start_pos\u001b[38;5;241m=\u001b[39m\u001b[38;5;241m18\u001b[39m,\n\u001b[0;32m     65\u001b[0m     beam_width\u001b[38;5;241m=\u001b[39m\u001b[38;5;241m3\u001b[39m,\n\u001b[0;32m     66\u001b[0m     depth\u001b[38;5;241m=\u001b[39m\u001b[38;5;241m6\u001b[39m,\n\u001b[0;32m     67\u001b[0m     max_len\u001b[38;5;241m=\u001b[39m\u001b[38;5;241m32\u001b[39m,\n\u001b[0;32m     68\u001b[0m     model_type\u001b[38;5;241m=\u001b[39m\u001b[38;5;124m'\u001b[39m\u001b[38;5;124mgpt\u001b[39m\u001b[38;5;124m'\u001b[39m\n\u001b[0;32m     69\u001b[0m )\n\u001b[0;32m     71\u001b[0m top_beam \u001b[38;5;241m=\u001b[39m beams[\u001b[38;5;241m0\u001b[39m]\n\u001b[0;32m     72\u001b[0m final_tokens \u001b[38;5;241m=\u001b[39m top_beam[\u001b[38;5;124m\"\u001b[39m\u001b[38;5;124minput_ids\u001b[39m\u001b[38;5;124m\"\u001b[39m][\u001b[38;5;241m0\u001b[39m]\n",
      "File \u001b[1;32mE:\\draft_bert\\draft_bert\\draft_gen.py:117\u001b[0m, in \u001b[0;36mbeam_generate_draft_from_cut\u001b[1;34m(model, tokenizer, sequence, start_pos, beam_width, depth, max_len, model_type)\u001b[0m\n\u001b[0;32m    115\u001b[0m     used_token_ids \u001b[38;5;241m=\u001b[39m beam_input_ids[:i]\u001b[38;5;241m.\u001b[39mtolist()  \u001b[38;5;66;03m# properly slice and flatten\u001b[39;00m\n\u001b[0;32m    116\u001b[0m     blocked_ids \u001b[38;5;241m=\u001b[39m get_blocked_token_ids(used_token_ids)\n\u001b[1;32m--> 117\u001b[0m     outputs \u001b[38;5;241m=\u001b[39m model(\u001b[38;5;241m*\u001b[39m\u001b[38;5;241m*\u001b[39minputs, blocked_token_ids\u001b[38;5;241m=\u001b[39mblocked_ids)\n\u001b[0;32m    119\u001b[0m logits \u001b[38;5;241m=\u001b[39m outputs[\u001b[38;5;124m\"\u001b[39m\u001b[38;5;124mlogits\u001b[39m\u001b[38;5;124m\"\u001b[39m][\u001b[38;5;241m0\u001b[39m, \u001b[38;5;241m-\u001b[39m\u001b[38;5;241m1\u001b[39m \u001b[38;5;28;01mif\u001b[39;00m model_type \u001b[38;5;241m==\u001b[39m \u001b[38;5;124m'\u001b[39m\u001b[38;5;124mgpt\u001b[39m\u001b[38;5;124m'\u001b[39m \u001b[38;5;28;01melse\u001b[39;00m i]\n\u001b[0;32m    120\u001b[0m probs \u001b[38;5;241m=\u001b[39m torch\u001b[38;5;241m.\u001b[39msoftmax(logits, dim\u001b[38;5;241m=\u001b[39m\u001b[38;5;241m-\u001b[39m\u001b[38;5;241m1\u001b[39m)\n",
      "File \u001b[1;32m~\\anaconda3\\Lib\\site-packages\\torch\\nn\\modules\\module.py:1532\u001b[0m, in \u001b[0;36mModule._wrapped_call_impl\u001b[1;34m(self, *args, **kwargs)\u001b[0m\n\u001b[0;32m   1530\u001b[0m     \u001b[38;5;28;01mreturn\u001b[39;00m \u001b[38;5;28mself\u001b[39m\u001b[38;5;241m.\u001b[39m_compiled_call_impl(\u001b[38;5;241m*\u001b[39margs, \u001b[38;5;241m*\u001b[39m\u001b[38;5;241m*\u001b[39mkwargs)  \u001b[38;5;66;03m# type: ignore[misc]\u001b[39;00m\n\u001b[0;32m   1531\u001b[0m \u001b[38;5;28;01melse\u001b[39;00m:\n\u001b[1;32m-> 1532\u001b[0m     \u001b[38;5;28;01mreturn\u001b[39;00m \u001b[38;5;28mself\u001b[39m\u001b[38;5;241m.\u001b[39m_call_impl(\u001b[38;5;241m*\u001b[39margs, \u001b[38;5;241m*\u001b[39m\u001b[38;5;241m*\u001b[39mkwargs)\n",
      "File \u001b[1;32m~\\anaconda3\\Lib\\site-packages\\torch\\nn\\modules\\module.py:1541\u001b[0m, in \u001b[0;36mModule._call_impl\u001b[1;34m(self, *args, **kwargs)\u001b[0m\n\u001b[0;32m   1536\u001b[0m \u001b[38;5;66;03m# If we don't have any hooks, we want to skip the rest of the logic in\u001b[39;00m\n\u001b[0;32m   1537\u001b[0m \u001b[38;5;66;03m# this function, and just call forward.\u001b[39;00m\n\u001b[0;32m   1538\u001b[0m \u001b[38;5;28;01mif\u001b[39;00m \u001b[38;5;129;01mnot\u001b[39;00m (\u001b[38;5;28mself\u001b[39m\u001b[38;5;241m.\u001b[39m_backward_hooks \u001b[38;5;129;01mor\u001b[39;00m \u001b[38;5;28mself\u001b[39m\u001b[38;5;241m.\u001b[39m_backward_pre_hooks \u001b[38;5;129;01mor\u001b[39;00m \u001b[38;5;28mself\u001b[39m\u001b[38;5;241m.\u001b[39m_forward_hooks \u001b[38;5;129;01mor\u001b[39;00m \u001b[38;5;28mself\u001b[39m\u001b[38;5;241m.\u001b[39m_forward_pre_hooks\n\u001b[0;32m   1539\u001b[0m         \u001b[38;5;129;01mor\u001b[39;00m _global_backward_pre_hooks \u001b[38;5;129;01mor\u001b[39;00m _global_backward_hooks\n\u001b[0;32m   1540\u001b[0m         \u001b[38;5;129;01mor\u001b[39;00m _global_forward_hooks \u001b[38;5;129;01mor\u001b[39;00m _global_forward_pre_hooks):\n\u001b[1;32m-> 1541\u001b[0m     \u001b[38;5;28;01mreturn\u001b[39;00m forward_call(\u001b[38;5;241m*\u001b[39margs, \u001b[38;5;241m*\u001b[39m\u001b[38;5;241m*\u001b[39mkwargs)\n\u001b[0;32m   1543\u001b[0m \u001b[38;5;28;01mtry\u001b[39;00m:\n\u001b[0;32m   1544\u001b[0m     result \u001b[38;5;241m=\u001b[39m \u001b[38;5;28;01mNone\u001b[39;00m\n",
      "File \u001b[1;32mE:\\draft_bert\\draft_bert\\draft_bert.py:150\u001b[0m, in \u001b[0;36mDraftGPT2ForCausalLM.forward\u001b[1;34m(self, input_ids, attention_mask, position_ids, team_ids, type_ids, labels, blocked_token_ids)\u001b[0m\n\u001b[0;32m    148\u001b[0m     \u001b[38;5;28;01mfor\u001b[39;00m i \u001b[38;5;129;01min\u001b[39;00m \u001b[38;5;28mrange\u001b[39m(logits\u001b[38;5;241m.\u001b[39msize(\u001b[38;5;241m0\u001b[39m)):  \u001b[38;5;66;03m# batch size\u001b[39;00m\n\u001b[0;32m    149\u001b[0m         \u001b[38;5;28;01mfor\u001b[39;00m blocked_id \u001b[38;5;129;01min\u001b[39;00m blocked_token_ids[i]:\n\u001b[1;32m--> 150\u001b[0m             logits[i, \u001b[38;5;241m-\u001b[39m\u001b[38;5;241m1\u001b[39m, blocked_id] \u001b[38;5;241m=\u001b[39m \u001b[38;5;28mfloat\u001b[39m(\u001b[38;5;124m'\u001b[39m\u001b[38;5;124m-inf\u001b[39m\u001b[38;5;124m'\u001b[39m)\n\u001b[0;32m    152\u001b[0m loss \u001b[38;5;241m=\u001b[39m \u001b[38;5;28;01mNone\u001b[39;00m\n\u001b[0;32m    153\u001b[0m \u001b[38;5;28;01mif\u001b[39;00m labels \u001b[38;5;129;01mis\u001b[39;00m \u001b[38;5;129;01mnot\u001b[39;00m \u001b[38;5;28;01mNone\u001b[39;00m:\n",
      "\u001b[1;31mIndexError\u001b[0m: too many indices for tensor of dimension 2"
     ]
    }
   ],
   "source": [
    "import torch\n",
    "import random\n",
    "from draft_gen import beam_generate_draft_from_cut\n",
    "from draft_tokenizer import DraftTokenizer\n",
    "#from draft_utils import get_token_name  # optional helper if you have a pretty formatter\n",
    "# we have a vocab json which is gonnabe a dictionary#\n",
    "#\n",
    "\"\"\" def load_from_files(cls, vocab_dir=\"vocab\"):\n",
    "        with open(f\"{vocab_dir}/vocab.json\") as f:\n",
    "            vocab = json.load(f)\n",
    "        with open(f\"{vocab_dir}/reverse_vocab.json\") as f:\n",
    "            reverse_vocab = json.load(f)\n",
    "        reverse_vocab = {int(k): v for k, v in reverse_vocab.items()}\n",
    "        with open(f\"{vocab_dir}/dense_map.json\") as f:\n",
    "            dense_map = json.load(f)\n",
    "        dense_map = {int(k): v for k, v in dense_map.items()}\n",
    "\n",
    "        with open(f\"{vocab_dir}/hero_id_to_name.json\") as f:\n",
    "            hero_id_to_name = json.load(f)\n",
    "        hero_id_to_name = {int(k): v for k, v in hero_id_to_name.items()}\n",
    "\n",
    "        return cls(vocab, reverse_vocab, dense_map, hero_id_to_name)\n",
    "\"\"\"\n",
    "from draft_dataset import split_tokenized_docs\n",
    "\n",
    "# === ⚙️ Load Tokenizer ===\n",
    "t = DraftTokenizer.load_from_files()\n",
    "import json\n",
    "# === 📜 Load Pre-tokenized Data (or re-tokenize) ===\n",
    "with open('draft_results.json', 'r') as f:\n",
    "    draft_data = json.load(f)\n",
    "\n",
    "docs = [seq for _, seq in draft_data.items()]\n",
    "tokenized_docs = [t(doc, return_tensors='pt') for doc in docs]\n",
    "\n",
    "# === 🔍 Sample a Few Interesting Drafts ===\n",
    "_, _, test_docs = split_tokenized_docs(tokenized_docs, tokenizer=t, mid=True)\n",
    "test_cases = random.sample(test_docs, k=3)  # or manually choose slices\n",
    "\n",
    "# === 📦 Load Model ===\n",
    "from transformers import GPT2Config\n",
    "from draft_bert import DraftGPT2ForCausalLM\n",
    "\n",
    "gconfig = GPT2Config.from_pretrained(\"./model/final_gpt2_model\")\n",
    "gmodel = DraftGPT2ForCausalLM(gconfig)\n",
    "gmodel.load_state_dict(torch.load(\"./model/final_gpt2_model/pytorch_model.bin\"))\n",
    "gmodel.eval().to('cuda' if torch.cuda.is_available() else 'cpu')\n",
    "\n",
    "# === 🧪 Try Beam Generation ===\n",
    "for i, sample in enumerate(test_cases):\n",
    "    print(f\"\\n===== 🧠 Beam Search Generation: Case {i+1} =====\")\n",
    "\n",
    "    input_ids = sample['input_ids']\n",
    "    valid_len = (sample['attention_mask'] > 0).sum().item()\n",
    "\n",
    "    print(\"👀 Original Sequence:\")\n",
    "    print(sample)\n",
    "    print([t.decode_token_id(tok.item()) for tok in input_ids[:valid_len]])\n",
    "\n",
    "    beams = beam_generate_draft_from_cut(\n",
    "        model=gmodel,\n",
    "        tokenizer=t,\n",
    "        sequence=sample,\n",
    "        start_pos=18,\n",
    "        beam_width=3,\n",
    "        depth=6,\n",
    "        max_len=32,\n",
    "        model_type='gpt'\n",
    "    )\n",
    "\n",
    "    top_beam = beams[0]\n",
    "    final_tokens = top_beam[\"input_ids\"][0]\n",
    "    decoded = [t.id_to_token(tok.item()) for tok in final_tokens if tok.item() != t.pad_token_id]\n",
    "\n",
    "    print(\"\\n✅ Top Beam (Best Sequence):\")\n",
    "    print(\" →\", decoded)\n",
    "    print(f\"🧮 Score: {top_beam['score']:.2f}\")\n",
    "\n",
    "    print(\"\\n📊 Generation Log:\")\n",
    "    for step in top_beam[\"log\"]:\n",
    "        tok = t.id_to_token(step[\"predicted_token\"])\n",
    "        print(f\"  Pos {step['position']:2d}: {tok:25s} (p={step['prob']:.4f})\")\n",
    "\n",
    "    print(\"\\n📈 Top-k Alternatives Per Step:\")\n",
    "    for step in top_beam[\"log\"]:\n",
    "        names = [t.id_to_token(tok_id) for tok_id in step.get(\"topk_ids\", [])]\n",
    "        probs = step.get(\"topk_probs\", [])\n",
    "        print(f\"  Step {step['position']}:\")\n",
    "        for name, p in zip(names, probs):\n",
    "            print(f\"    - {name:25s}: {p:.4f}\")\n",
    "\n",
    "    print(\"=\"*60)\n",
    "\n",
    "\n",
    "\n"
   ]
  },
  {
   "cell_type": "code",
   "execution_count": null,
   "id": "504ff798-3f30-4d55-902c-bdd79880f20e",
   "metadata": {},
   "outputs": [
    {
     "name": "stdout",
     "output_type": "stream",
     "text": [
      "> \u001b[1;32me:\\draft_bert\\draft_bert\\draft_bert.py\u001b[0m(150)\u001b[0;36mforward\u001b[1;34m()\u001b[0m\n",
      "\u001b[1;32m    148 \u001b[1;33m            \u001b[1;32mfor\u001b[0m \u001b[0mi\u001b[0m \u001b[1;32min\u001b[0m \u001b[0mrange\u001b[0m\u001b[1;33m(\u001b[0m\u001b[0mlogits\u001b[0m\u001b[1;33m.\u001b[0m\u001b[0msize\u001b[0m\u001b[1;33m(\u001b[0m\u001b[1;36m0\u001b[0m\u001b[1;33m)\u001b[0m\u001b[1;33m)\u001b[0m\u001b[1;33m:\u001b[0m  \u001b[1;31m# batch size\u001b[0m\u001b[1;33m\u001b[0m\u001b[1;33m\u001b[0m\u001b[0m\n",
      "\u001b[0m\u001b[1;32m    149 \u001b[1;33m                \u001b[1;32mfor\u001b[0m \u001b[0mblocked_id\u001b[0m \u001b[1;32min\u001b[0m \u001b[0mblocked_token_ids\u001b[0m\u001b[1;33m[\u001b[0m\u001b[0mi\u001b[0m\u001b[1;33m]\u001b[0m\u001b[1;33m:\u001b[0m\u001b[1;33m\u001b[0m\u001b[1;33m\u001b[0m\u001b[0m\n",
      "\u001b[0m\u001b[1;32m--> 150 \u001b[1;33m                    \u001b[0mlogits\u001b[0m\u001b[1;33m[\u001b[0m\u001b[0mi\u001b[0m\u001b[1;33m,\u001b[0m \u001b[1;33m-\u001b[0m\u001b[1;36m1\u001b[0m\u001b[1;33m,\u001b[0m \u001b[0mblocked_id\u001b[0m\u001b[1;33m]\u001b[0m \u001b[1;33m=\u001b[0m \u001b[0mfloat\u001b[0m\u001b[1;33m(\u001b[0m\u001b[1;34m'-inf'\u001b[0m\u001b[1;33m)\u001b[0m\u001b[1;33m\u001b[0m\u001b[1;33m\u001b[0m\u001b[0m\n",
      "\u001b[0m\u001b[1;32m    151 \u001b[1;33m\u001b[1;33m\u001b[0m\u001b[0m\n",
      "\u001b[0m\u001b[1;32m    152 \u001b[1;33m        \u001b[0mloss\u001b[0m \u001b[1;33m=\u001b[0m \u001b[1;32mNone\u001b[0m\u001b[1;33m\u001b[0m\u001b[1;33m\u001b[0m\u001b[0m\n",
      "\u001b[0m\n"
     ]
    },
    {
     "name": "stdin",
     "output_type": "stream",
     "text": [
      "ipdb>  logit\n"
     ]
    },
    {
     "name": "stdout",
     "output_type": "stream",
     "text": [
      "*** NameError: name 'logit' is not defined\n"
     ]
    },
    {
     "name": "stdin",
     "output_type": "stream",
     "text": [
      "ipdb>  logits\n"
     ]
    },
    {
     "name": "stdout",
     "output_type": "stream",
     "text": [
      "tensor([[-3.7725, -3.2697, -3.2907,  ..., -4.8032, -4.8541, -5.2814],\n",
      "        [-2.4790, -3.3966, -3.4678,  ..., -3.1541, -3.0490, -0.1769],\n",
      "        [-2.3661, -3.1982, -3.1372,  ..., -2.6042, -2.4478,  0.1199],\n",
      "        ...,\n",
      "        [-0.2276,  2.2330,  2.9535,  ..., -1.4362, -1.4931, -0.3713],\n",
      "        [ 1.1546,  1.7351,  0.5453,  ..., -1.9304, -2.0260, -0.8334],\n",
      "        [-2.9069, -2.6484, -2.9509,  ..., -4.1870, -4.3926, -4.6566]])\n"
     ]
    },
    {
     "name": "stdin",
     "output_type": "stream",
     "text": [
      "ipdb>  logits.size\n"
     ]
    },
    {
     "name": "stdout",
     "output_type": "stream",
     "text": [
      "<built-in method size of Tensor object at 0x000001657E5FAD50>\n"
     ]
    },
    {
     "name": "stdin",
     "output_type": "stream",
     "text": [
      "ipdb>  logits.shape\n"
     ]
    },
    {
     "name": "stdout",
     "output_type": "stream",
     "text": [
      "torch.Size([361, 256])\n"
     ]
    }
   ],
   "source": [
    "%debug"
   ]
  },
  {
   "cell_type": "code",
   "execution_count": null,
   "id": "01a17a5c-d93e-47b4-9bb9-6eb4a30997c3",
   "metadata": {},
   "outputs": [],
   "source": []
  },
  {
   "cell_type": "code",
   "execution_count": null,
   "id": "159d7e0f-16a8-47b8-813e-b0d2ec28c624",
   "metadata": {},
   "outputs": [],
   "source": [
    "\n",
    "# === 📦 Load BERT Model ===\n",
    "from transformers import BertConfig\n",
    "from draft_bert import DraftBertForMaskedLM\n",
    "\n",
    "bconfig = BertConfig.from_pretrained(\"./model/final_bert_model\")\n",
    "bmodel = DraftBertForMaskedLM(bconfig)\n",
    "bmodel.load_state_dict(torch.load(\"./model/final_bert_model/pytorch_model.bin\"))\n",
    "bmodel.eval().to('cuda' if torch.cuda.is_available() else 'cpu')\n",
    "\n",
    "# === 🧪 Beam Search for BERT ===\n",
    "for i, sample in enumerate(test_cases):\n",
    "    print(f\"\\n===== 🧠 Beam Search Generation (BERT): Case {i+1} =====\")\n",
    "\n",
    "    input_ids = sample['input_ids']\n",
    "    valid_len = (sample['attention_mask'] > 0).sum().item()\n",
    "\n",
    "    print(\"👀 Original Sequence:\")\n",
    "    print([t.id_to_token(tok.item()) for tok in input_ids[:valid_len]])\n",
    "\n",
    "    beams = beam_generate_draft_from_cut(\n",
    "        model=bmodel,\n",
    "        tokenizer=t,\n",
    "        sequence=sample,\n",
    "        start_pos=18,\n",
    "        beam_width=3,\n",
    "        depth=6,\n",
    "        max_len=32,\n",
    "        model_type='bert'\n",
    "    )\n",
    "\n",
    "    top_beam = beams[0]\n",
    "    final_tokens = top_beam[\"input_ids\"][0]\n",
    "    decoded = [t.id_to_token(tok.item()) for tok in final_tokens if tok.item() != t.pad_token_id]\n",
    "\n",
    "    print(\"\\n✅ Top Beam (Best Sequence):\")\n",
    "    print(\" →\", decoded)\n",
    "    print(f\"🧮 Score: {top_beam['score']:.2f}\")\n",
    "\n",
    "    print(\"\\n📊 Generation Log:\")\n",
    "    for step in top_beam[\"log\"]:\n",
    "        tok = t.id_to_token(step[\"predicted_token\"])\n",
    "        print(f\"  Pos {step['position']:2d}: {tok:25s} (p={step['prob']:.4f})\")\n",
    "\n",
    "    print(\"\\n📈 Top-k Alternatives Per Step:\")\n",
    "    for step in top_beam[\"log\"]:\n",
    "        names = [t.id_to_token(tok_id) for tok_id in step.get(\"topk_ids\", [])]\n",
    "        probs = step.get(\"topk_probs\", [])\n",
    "        print(f\"  Step {step['position']}:\")\n",
    "        for name, p in zip(names, probs):\n",
    "            print(f\"    - {name:25s}: {p:.4f}\")\n",
    "\n",
    "    print(\"=\"*60)"
   ]
  }
 ],
 "metadata": {
  "kernelspec": {
   "display_name": "Python 3 (ipykernel)",
   "language": "python",
   "name": "python3"
  },
  "language_info": {
   "codemirror_mode": {
    "name": "ipython",
    "version": 3
   },
   "file_extension": ".py",
   "mimetype": "text/x-python",
   "name": "python",
   "nbconvert_exporter": "python",
   "pygments_lexer": "ipython3",
   "version": "3.11.7"
  }
 },
 "nbformat": 4,
 "nbformat_minor": 5
}
